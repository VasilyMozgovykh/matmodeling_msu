{
 "cells": [
  {
   "cell_type": "code",
   "execution_count": null,
   "metadata": {},
   "outputs": [],
   "source": [
    "import deepxde as dde\n",
    "import numpy as np\n",
    "from itertools import combinations_with_replacement\n",
    "from deepxde.backend import pytorch as torch"
   ]
  },
  {
   "cell_type": "markdown",
   "metadata": {},
   "source": [
    "Рассмотрим 10 аналитически заданных функций $u(x,y; a,b) = \\sin{a x}\\cos{b y}$, где $a, b \\in 1,2,3,4$ и $a \\le b$. \n",
    "Тогда\n",
    "$$-\\Delta u(x,y) = (a^2 + b^2) u(x,y) = f(x,y) \\Rightarrow f(x,y)=(a^2+b^2)\\sin{ax}\\cos{by},$$\n",
    "$$u(0,y)=u(\\pi, y)=0,\\quad u(x, 0)=\\sin{ax},\\quad u(x,\\pi)=(-1)^{b}\\sin{ax}.$$"
   ]
  },
  {
   "cell_type": "code",
   "execution_count": null,
   "metadata": {},
   "outputs": [],
   "source": [
    "examples_cfg = list(combinations_with_replacement((1, 2, 3, 4), 2))\n",
    "\n",
    "assert len(examples_cfg) == 10"
   ]
  },
  {
   "cell_type": "markdown",
   "metadata": {},
   "source": [
    "Реализуем функцию, которая решает задачу Дирихле на произвольном множестве $\\Omega=geom$ с заданными $f(x,y)$ и $g(x,y)$:\n",
    "$$\n",
    "\\begin{cases}\n",
    "    -\\Delta u = f,\\quad (x,y) \\in \\Omega,\\\\\n",
    "    u = g,\\quad (x, y) \\in \\partial \\Omega\n",
    "\\end{cases}\n",
    "$$"
   ]
  },
  {
   "cell_type": "code",
   "execution_count": null,
   "metadata": {},
   "outputs": [],
   "source": [
    "net = dde.nn.FNN([2, 50, 50, 50, 50, 1], \"tanh\", \"Glorot uniform\")\n",
    "\n",
    "def solve_poisson(geom, f, g, n_iterations=1_000, solution=None, ckpt_path=\"model.ckpt\", movie_path=\"movie\"):\n",
    "    def pde(x, y):\n",
    "        du_xx = dde.grad.hessian(y, x, i=0, j=0)\n",
    "        du_yy = dde.grad.hessian(y, x, i=1, j=1)\n",
    "        return -du_xx - du_yy - f(x)\n",
    "\n",
    "    def boundary(_, on_boundary):\n",
    "        return on_boundary\n",
    "    bc = dde.icbc.DirichletBC(geom, g, boundary)\n",
    "    data = dde.data.PDE(geom, pde, bc, solution=solution, num_domain=1_000, num_boundary=500, num_test=1_000)\n",
    "\n",
    "    model = dde.Model(data, net)\n",
    "    model.compile(\"adam\", lr=1e-3, metrics=[\"l2 relative error\"])\n",
    "\n",
    "    checkpointer = dde.callbacks.ModelCheckpoint(\n",
    "        ckpt_path, verbose=1, save_better_only=True\n",
    "    )\n",
    "    # movie = dde.callbacks.MovieDumper(\n",
    "    #     movie_path, [0., np.pi/2], [np.pi, np.pi/2], period=n_iterations//100, y_reference=solution\n",
    "    # )\n",
    "    losshistory, _ = model.train(iterations=n_iterations, callbacks=[checkpointer])#, movie])\n",
    "\n",
    "    xy = geom.random_points(n=1_000)\n",
    "    u_true, u_pred = solution(xy), model.predict(xy)\n",
    "    residual = model.predict(xy, operator=pde)\n",
    "    print(\n",
    "        f\"Solution L2 absolute error: {np.linalg.norm(u_true - u_pred, ord=2)}\",\n",
    "        f\"Solution L2 relative error: {np.linalg.norm(u_true - u_pred, ord=2) / np.linalg.norm(u_true, ord=2)}\",\n",
    "        f\"Solution C absolute error: {np.max(np.abs(u_true - u_pred))}\",\n",
    "        f\"Solution C relative error: {np.max(np.abs(u_true - u_pred)) / np.max(np.abs(u_true))}\",\n",
    "        f\"Residual L2 error: {np.linalg.norm(residual, ord='fro')}\",\n",
    "        f\"Residual C error: {np.max(np.abs(residual))}\",\n",
    "        sep=\"\\n\"\n",
    "    )\n",
    "    return model, losshistory"
   ]
  },
  {
   "cell_type": "code",
   "execution_count": null,
   "metadata": {},
   "outputs": [],
   "source": [
    "geom = dde.geometry.Rectangle([0., 0.], [np.pi, np.pi])\n",
    "n_iterations = 1_000\n",
    "\n",
    "results = {}\n",
    "for a, b in examples_cfg:\n",
    "    def f(x):\n",
    "        return (a**2 + b**2) * torch.sin(a * x[:, 0]) * torch.cos(b * x[:, 1])\n",
    "\n",
    "    def g(x):\n",
    "        boundary = np.zeros_like(x[:, 0])\n",
    "        on_boundary = dde.utils.isclose(x[:, 1], 0.) | dde.utils.isclose(x[:, 1], np.pi)\n",
    "        boundary[on_boundary] = np.sin(a * x[:, 0])[on_boundary]\n",
    "        return boundary\n",
    "\n",
    "    def solution(x):\n",
    "        return np.sin(a * x[:, 0]) * np.cos(b * x[:, 1])\n",
    "\n",
    "    print(f\"Training model for u(x,y)=sin({a}x)*cos({b}y)\")\n",
    "    model, losshistory = solve_poisson(geom, f, g, n_iterations=n_iterations, solution=solution)\n",
    "    results[(a, b)] = {\n",
    "        \"model\": model,\n",
    "        \"losshistory\": losshistory\n",
    "    }"
   ]
  }
 ],
 "metadata": {
  "kernelspec": {
   "display_name": "Python 3",
   "language": "python",
   "name": "python3"
  },
  "language_info": {
   "codemirror_mode": {
    "name": "ipython",
    "version": 3
   },
   "file_extension": ".py",
   "mimetype": "text/x-python",
   "name": "python",
   "nbconvert_exporter": "python",
   "pygments_lexer": "ipython3",
   "version": "3.10.12"
  }
 },
 "nbformat": 4,
 "nbformat_minor": 2
}
